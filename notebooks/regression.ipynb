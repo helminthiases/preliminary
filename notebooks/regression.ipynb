{
 "cells": [
  {
   "cell_type": "markdown",
   "id": "08f28647-7a19-464c-bb51-e40e1baf9fae",
   "metadata": {},
   "source": [
    "## Preliminaries"
   ]
  },
  {
   "cell_type": "markdown",
   "id": "d1561437-b74a-4a7b-89f6-a8448a882a3d",
   "metadata": {},
   "source": [
    "### Libraries"
   ]
  },
  {
   "cell_type": "code",
   "execution_count": 1,
   "id": "76946e42-0331-4e97-9891-d2f30be50b88",
   "metadata": {},
   "outputs": [],
   "source": [
    "import os\n",
    "import sys\n",
    "import glob\n",
    "import logging\n",
    "\n",
    "import pathlib\n",
    "\n",
    "import numpy as np\n",
    "import pandas as pd\n",
    "\n",
    "import statsmodels.api as sma"
   ]
  },
  {
   "cell_type": "markdown",
   "id": "12dff0bd-1503-4446-8f0f-c6ede7c08448",
   "metadata": {},
   "source": [
    "<br>\n",
    "\n",
    "### Paths"
   ]
  },
  {
   "cell_type": "code",
   "execution_count": 2,
   "id": "8d1d7cea-0f05-4a71-9df8-9191c280c141",
   "metadata": {},
   "outputs": [],
   "source": [
    "os.chdir(pathlib.Path(os.getcwd()).parent)"
   ]
  },
  {
   "cell_type": "markdown",
   "id": "23a85404-c05e-4c0a-aedd-40ca2e10059d",
   "metadata": {},
   "source": [
    "<br>\n",
    "\n",
    "### Logging"
   ]
  },
  {
   "cell_type": "code",
   "execution_count": 3,
   "id": "b01e9b9f-b1ea-4344-9372-c7124fdc0c75",
   "metadata": {},
   "outputs": [],
   "source": [
    "logging.basicConfig(level=logging.INFO,\n",
    "                        format='\\n%(message)s\\n%(asctime)s.%(msecs)03d\\n',\n",
    "                        datefmt='%Y-%m-%d %H:%M:%S')\n",
    "logger = logging.getLogger(__name__)"
   ]
  },
  {
   "cell_type": "markdown",
   "id": "b120f94b-c7da-44e6-bfbc-2f241b525779",
   "metadata": {},
   "source": [
    "<br>\n",
    "<br>\n",
    "\n",
    "## Data"
   ]
  },
  {
   "cell_type": "code",
   "execution_count": 4,
   "id": "1c926489-5978-4384-b791-56a1b606b8c9",
   "metadata": {},
   "outputs": [],
   "source": [
    "source = os.path.join(os.getcwd(), 'warehouse', 'missing', 'disaggregates')\n",
    "paths = glob.glob(pathname=os.path.join(source, '*.csv'))"
   ]
  },
  {
   "cell_type": "markdown",
   "id": "aaf2ca8d-6227-4ed5-b238-2b07fdb8e0ea",
   "metadata": {},
   "source": [
    "<br>\n",
    "\n",
    "Selecting a sample"
   ]
  },
  {
   "cell_type": "code",
   "execution_count": 5,
   "id": "1f9a92fb-fcc6-4158-a4ec-a7a3e0c71d7d",
   "metadata": {},
   "outputs": [
    {
     "name": "stderr",
     "output_type": "stream",
     "text": [
      "\n",
      "AO\n",
      "2022-07-14 15:27:13.625\n",
      "\n"
     ]
    }
   ],
   "source": [
    "path = paths[0]\n",
    "frame = pd.read_csv(filepath_or_buffer=path, header=0, dtype=np.int32, encoding='utf-8')\n",
    "logger.info(pathlib.Path(path).stem)"
   ]
  },
  {
   "cell_type": "markdown",
   "id": "d0e196d4-c10e-4b79-af2e-fae92ecbddff",
   "metadata": {},
   "source": [
    "<br>\n",
    "\n",
    "Take note of the sums of latitude, longitude, and co&ouml;rdinates"
   ]
  },
  {
   "cell_type": "code",
   "execution_count": 6,
   "id": "e2569c23-6afc-477d-ad0c-7af63782e0b6",
   "metadata": {},
   "outputs": [
    {
     "data": {
      "text/plain": [
       "site_id           160\n",
       "longitude           0\n",
       "latitude            1\n",
       "year                0\n",
       "hk_prevalence       0\n",
       "asc_prevalence      1\n",
       "tt_prevalence       0\n",
       "coordinates         1\n",
       "dtype: int64"
      ]
     },
     "execution_count": 6,
     "metadata": {},
     "output_type": "execute_result"
    }
   ],
   "source": [
    "frame.sum()"
   ]
  },
  {
   "cell_type": "markdown",
   "id": "87e81e2a-79df-4f43-8220-85c63a001301",
   "metadata": {},
   "source": [
    "<br>\n",
    "<br>\n",
    "\n",
    "## Null Regression"
   ]
  },
  {
   "cell_type": "markdown",
   "id": "d57a8c27-8764-454a-843d-2e2780cc08d2",
   "metadata": {},
   "source": [
    "### Reference: Co&ouml;rdinates"
   ]
  },
  {
   "cell_type": "markdown",
   "id": "abc3c422-4d41-4ab6-9bd7-dfe1a35f7972",
   "metadata": {},
   "source": [
    "Model"
   ]
  },
  {
   "cell_type": "code",
   "execution_count": 7,
   "id": "f9e7526b-f62e-42e8-8d18-d93c49c91e9f",
   "metadata": {},
   "outputs": [],
   "source": [
    "design = sma.add_constant(frame[['year', 'hk_prevalence', 'asc_prevalence', 'tt_prevalence']], prepend=False)\n",
    "alg = sma.GLM(endog=frame[['coordinates']], exog=design, family=sma.families.Binomial())\n",
    "model = alg.fit()"
   ]
  },
  {
   "cell_type": "markdown",
   "id": "90273aef-808f-4093-aafb-5281fe71a7e4",
   "metadata": {},
   "source": [
    "<br>\n",
    "\n",
    "Summary"
   ]
  },
  {
   "cell_type": "code",
   "execution_count": 8,
   "id": "d9fcad18-3b99-4649-b552-6911d000b0ef",
   "metadata": {},
   "outputs": [
    {
     "data": {
      "text/html": [
       "<table class=\"simpletable\">\n",
       "<caption>Generalized Linear Model Regression Results</caption>\n",
       "<tr>\n",
       "  <th>Dep. Variable:</th>      <td>coordinates</td>   <th>  No. Observations:  </th>  <td>   160</td>  \n",
       "</tr>\n",
       "<tr>\n",
       "  <th>Model:</th>                  <td>GLM</td>       <th>  Df Residuals:      </th>  <td>   158</td>  \n",
       "</tr>\n",
       "<tr>\n",
       "  <th>Model Family:</th>        <td>Binomial</td>     <th>  Df Model:          </th>  <td>     1</td>  \n",
       "</tr>\n",
       "<tr>\n",
       "  <th>Link Function:</th>         <td>Logit</td>      <th>  Scale:             </th> <td>  1.0000</td> \n",
       "</tr>\n",
       "<tr>\n",
       "  <th>Method:</th>                <td>IRLS</td>       <th>  Log-Likelihood:    </th> <td> -6.0658</td> \n",
       "</tr>\n",
       "<tr>\n",
       "  <th>Date:</th>            <td>Thu, 14 Jul 2022</td> <th>  Deviance:          </th> <td>  12.132</td> \n",
       "</tr>\n",
       "<tr>\n",
       "  <th>Time:</th>                <td>15:27:13</td>     <th>  Pearson chi2:      </th>  <td>  159.</td>  \n",
       "</tr>\n",
       "<tr>\n",
       "  <th>No. Iterations:</th>         <td>19</td>        <th>  Pseudo R-squ. (CS):</th> <td>7.861e-05</td>\n",
       "</tr>\n",
       "<tr>\n",
       "  <th>Covariance Type:</th>     <td>nonrobust</td>    <th>                     </th>     <td> </td>    \n",
       "</tr>\n",
       "</table>\n",
       "<table class=\"simpletable\">\n",
       "<tr>\n",
       "         <td></td>           <th>coef</th>     <th>std err</th>      <th>z</th>      <th>P>|z|</th>  <th>[0.025</th>    <th>0.975]</th>  \n",
       "</tr>\n",
       "<tr>\n",
       "  <th>year</th>           <td>         0</td> <td>        0</td> <td>      nan</td> <td>   nan</td> <td>        0</td> <td>        0</td>\n",
       "</tr>\n",
       "<tr>\n",
       "  <th>hk_prevalence</th>  <td>         0</td> <td>        0</td> <td>      nan</td> <td>   nan</td> <td>        0</td> <td>        0</td>\n",
       "</tr>\n",
       "<tr>\n",
       "  <th>asc_prevalence</th> <td>  -15.5035</td> <td> 1.77e+04</td> <td>   -0.001</td> <td> 0.999</td> <td>-3.48e+04</td> <td> 3.47e+04</td>\n",
       "</tr>\n",
       "<tr>\n",
       "  <th>tt_prevalence</th>  <td>         0</td> <td>        0</td> <td>      nan</td> <td>   nan</td> <td>        0</td> <td>        0</td>\n",
       "</tr>\n",
       "<tr>\n",
       "  <th>const</th>          <td>   -5.0626</td> <td>    1.003</td> <td>   -5.047</td> <td> 0.000</td> <td>   -7.029</td> <td>   -3.096</td>\n",
       "</tr>\n",
       "</table>"
      ],
      "text/plain": [
       "<class 'statsmodels.iolib.summary.Summary'>\n",
       "\"\"\"\n",
       "                 Generalized Linear Model Regression Results                  \n",
       "==============================================================================\n",
       "Dep. Variable:            coordinates   No. Observations:                  160\n",
       "Model:                            GLM   Df Residuals:                      158\n",
       "Model Family:                Binomial   Df Model:                            1\n",
       "Link Function:                  Logit   Scale:                          1.0000\n",
       "Method:                          IRLS   Log-Likelihood:                -6.0658\n",
       "Date:                Thu, 14 Jul 2022   Deviance:                       12.132\n",
       "Time:                        15:27:13   Pearson chi2:                     159.\n",
       "No. Iterations:                    19   Pseudo R-squ. (CS):          7.861e-05\n",
       "Covariance Type:            nonrobust                                         \n",
       "==================================================================================\n",
       "                     coef    std err          z      P>|z|      [0.025      0.975]\n",
       "----------------------------------------------------------------------------------\n",
       "year                    0          0        nan        nan           0           0\n",
       "hk_prevalence           0          0        nan        nan           0           0\n",
       "asc_prevalence   -15.5035   1.77e+04     -0.001      0.999   -3.48e+04    3.47e+04\n",
       "tt_prevalence           0          0        nan        nan           0           0\n",
       "const             -5.0626      1.003     -5.047      0.000      -7.029      -3.096\n",
       "==================================================================================\n",
       "\"\"\""
      ]
     },
     "execution_count": 8,
     "metadata": {},
     "output_type": "execute_result"
    }
   ],
   "source": [
    "summary = model.summary()\n",
    "summary"
   ]
  },
  {
   "cell_type": "markdown",
   "id": "974b964f-7e64-4109-9b77-5b9847b44e19",
   "metadata": {},
   "source": [
    "<br>\n",
    "\n",
    "Estimates"
   ]
  },
  {
   "cell_type": "code",
   "execution_count": 9,
   "id": "a6dd67be-34f3-4d7c-bc6a-1fc0cec0324a",
   "metadata": {},
   "outputs": [
    {
     "data": {
      "text/plain": [
       "['', 'coef', 'std err', 'z', 'P>|z|', '[0.025', '0.975]']"
      ]
     },
     "execution_count": 9,
     "metadata": {},
     "output_type": "execute_result"
    }
   ],
   "source": [
    "estimates = summary.tables[1].data\n",
    "estimates[0]"
   ]
  },
  {
   "cell_type": "markdown",
   "id": "f47d6d0a-3149-4944-a17f-5bec19e2a703",
   "metadata": {},
   "source": [
    "<br>\n",
    "\n",
    "Structuring"
   ]
  },
  {
   "cell_type": "code",
   "execution_count": 10,
   "id": "bd23746d-7b06-42c1-9220-0f9fe45c4112",
   "metadata": {},
   "outputs": [],
   "source": [
    "coefficients = pd.DataFrame(data = estimates[1:])\n",
    "coefficients.set_axis(['variable', 'coefficient', 'S.E.', 'z', 'p_value', '0.025', '0.975'], axis='columns', inplace=True)"
   ]
  },
  {
   "cell_type": "code",
   "execution_count": 11,
   "id": "bcf96dcc-3032-471a-a568-f9337dd14f56",
   "metadata": {},
   "outputs": [
    {
     "data": {
      "text/html": [
       "<div>\n",
       "<style scoped>\n",
       "    .dataframe tbody tr th:only-of-type {\n",
       "        vertical-align: middle;\n",
       "    }\n",
       "\n",
       "    .dataframe tbody tr th {\n",
       "        vertical-align: top;\n",
       "    }\n",
       "\n",
       "    .dataframe thead th {\n",
       "        text-align: right;\n",
       "    }\n",
       "</style>\n",
       "<table border=\"1\" class=\"dataframe\">\n",
       "  <thead>\n",
       "    <tr style=\"text-align: right;\">\n",
       "      <th></th>\n",
       "      <th>variable</th>\n",
       "      <th>coefficient</th>\n",
       "      <th>S.E.</th>\n",
       "      <th>z</th>\n",
       "      <th>p_value</th>\n",
       "      <th>0.025</th>\n",
       "      <th>0.975</th>\n",
       "    </tr>\n",
       "  </thead>\n",
       "  <tbody>\n",
       "    <tr>\n",
       "      <th>0</th>\n",
       "      <td>year</td>\n",
       "      <td>0.0</td>\n",
       "      <td>0.0</td>\n",
       "      <td>NaN</td>\n",
       "      <td>NaN</td>\n",
       "      <td>0.0</td>\n",
       "      <td>0.0</td>\n",
       "    </tr>\n",
       "    <tr>\n",
       "      <th>1</th>\n",
       "      <td>hk_prevalence</td>\n",
       "      <td>0.0</td>\n",
       "      <td>0.0</td>\n",
       "      <td>NaN</td>\n",
       "      <td>NaN</td>\n",
       "      <td>0.0</td>\n",
       "      <td>0.0</td>\n",
       "    </tr>\n",
       "    <tr>\n",
       "      <th>2</th>\n",
       "      <td>asc_prevalence</td>\n",
       "      <td>-15.5035</td>\n",
       "      <td>17700.0</td>\n",
       "      <td>-0.001</td>\n",
       "      <td>0.999</td>\n",
       "      <td>-34800.0</td>\n",
       "      <td>34700.0</td>\n",
       "    </tr>\n",
       "    <tr>\n",
       "      <th>3</th>\n",
       "      <td>tt_prevalence</td>\n",
       "      <td>0.0</td>\n",
       "      <td>0.0</td>\n",
       "      <td>NaN</td>\n",
       "      <td>NaN</td>\n",
       "      <td>0.0</td>\n",
       "      <td>0.0</td>\n",
       "    </tr>\n",
       "    <tr>\n",
       "      <th>4</th>\n",
       "      <td>const</td>\n",
       "      <td>-5.0626</td>\n",
       "      <td>1.003</td>\n",
       "      <td>-5.047</td>\n",
       "      <td>0.0</td>\n",
       "      <td>-7.029</td>\n",
       "      <td>-3.096</td>\n",
       "    </tr>\n",
       "  </tbody>\n",
       "</table>\n",
       "</div>"
      ],
      "text/plain": [
       "         variable coefficient     S.E.      z p_value    0.025    0.975\n",
       "0            year         0.0      0.0    NaN     NaN      0.0      0.0\n",
       "1   hk_prevalence         0.0      0.0    NaN     NaN      0.0      0.0\n",
       "2  asc_prevalence    -15.5035  17700.0 -0.001   0.999 -34800.0  34700.0\n",
       "3   tt_prevalence         0.0      0.0    NaN     NaN      0.0      0.0\n",
       "4           const     -5.0626    1.003 -5.047     0.0   -7.029   -3.096"
      ]
     },
     "execution_count": 11,
     "metadata": {},
     "output_type": "execute_result"
    }
   ],
   "source": [
    "floats = ['coefficient', 'S.E.', 'z', 'p_value', '0.025', '0.975']\n",
    "coefficients.loc[:, floats] = coefficients[floats].astype(float)\n",
    "coefficients"
   ]
  }
 ],
 "metadata": {
  "kernelspec": {
   "display_name": "Python 3 (ipykernel)",
   "language": "python",
   "name": "python3"
  },
  "language_info": {
   "codemirror_mode": {
    "name": "ipython",
    "version": 3
   },
   "file_extension": ".py",
   "mimetype": "text/x-python",
   "name": "python",
   "nbconvert_exporter": "python",
   "pygments_lexer": "ipython3",
   "version": "3.8.13"
  }
 },
 "nbformat": 4,
 "nbformat_minor": 5
}
