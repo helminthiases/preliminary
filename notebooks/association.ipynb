{
 "cells": [
  {
   "cell_type": "markdown",
   "id": "dc120bac-0e4d-4f76-a8c2-a677cbf17b89",
   "metadata": {},
   "source": [
    "## Preliminaries"
   ]
  },
  {
   "cell_type": "markdown",
   "id": "f904662c-0397-484d-b37f-60c9070313f0",
   "metadata": {},
   "source": [
    "Setting-up"
   ]
  },
  {
   "cell_type": "code",
   "execution_count": 1,
   "id": "ee65b0b4-516f-44a1-a55f-08717d84cf26",
   "metadata": {},
   "outputs": [
    {
     "data": {
      "text/html": [
       "'J:/library/helminthiases/preliminary'"
      ],
      "text/latex": [
       "'J:/library/helminthiases/preliminary'"
      ],
      "text/markdown": [
       "'J:/library/helminthiases/preliminary'"
      ],
      "text/plain": [
       "[1] \"J:/library/helminthiases/preliminary\""
      ]
     },
     "metadata": {},
     "output_type": "display_data"
    }
   ],
   "source": [
    "setwd(base::dirname(getwd()))\n",
    "getwd()"
   ]
  },
  {
   "cell_type": "markdown",
   "id": "689ba9f5-eacb-4aeb-9686-220a026d054d",
   "metadata": {},
   "source": [
    "<br>\n",
    "\n",
    "Libraries"
   ]
  },
  {
   "cell_type": "code",
   "execution_count": null,
   "id": "ded58b9c-026d-42ef-ac71-b925d90f8af5",
   "metadata": {},
   "outputs": [],
   "source": [
    ".activate <- function (x){\n",
    "    library(x, character.only = TRUE, quietly = TRUE, warn.conflicts = FALSE, verbose = FALSE)\n",
    "    if (x == 'rmarkdown') {library(tinytex)}\n",
    "}\n",
    "log <- lapply(X = c('magrittr', 'tidyr', 'dplyr', 'tibble', 'ggplot2', 'stringr', 'lubridate'), .activate)"
   ]
  },
  {
   "cell_type": "markdown",
   "id": "1b5a1955-7795-4131-bae2-b5497a6439dc",
   "metadata": {},
   "source": [
    "<br>\n",
    "\n",
    "## Data Sources"
   ]
  },
  {
   "cell_type": "code",
   "execution_count": 3,
   "id": "d9b281ed-32ac-49e3-954f-d305258121e8",
   "metadata": {},
   "outputs": [],
   "source": [
    "files <- list.files(path = file.path(getwd(), 'warehouse', 'missing', 'disaggregates'),\n",
    "                    full.names = TRUE)"
   ]
  },
  {
   "cell_type": "markdown",
   "id": "7259bb44-d9f3-4dd7-8a5d-307e54dcaec8",
   "metadata": {},
   "source": [
    "<br>\n",
    "<br>\n",
    "\n",
    "## Null Correlation"
   ]
  },
  {
   "cell_type": "code",
   "execution_count": 4,
   "id": "2dada4a7-95f1-40be-8c92-7b663a236e33",
   "metadata": {},
   "outputs": [],
   "source": [
    "source(file = 'R/missing/Steps.R')"
   ]
  },
  {
   "cell_type": "code",
   "execution_count": 5,
   "id": "53e5e427-863e-42fd-8490-881daced31f0",
   "metadata": {},
   "outputs": [],
   "source": [
    "cores <- parallel::detectCores() - 2\n",
    "doParallel::registerDoParallel(cores = cores)\n",
    "clusters <- parallel::makeCluster(cores)\n",
    "X <- parallel::clusterMap(clusters, fun = Steps, files, USE.NAMES = FALSE)\n",
    "parallel::stopCluster(clusters)\n",
    "rm(clusters, cores)"
   ]
  },
  {
   "cell_type": "code",
   "execution_count": 6,
   "id": "4a26e03f-0874-4fad-82c1-2e0e3a3c5a17",
   "metadata": {},
   "outputs": [],
   "source": [
    "correlations <- dplyr::bind_rows(X)"
   ]
  },
  {
   "cell_type": "code",
   "execution_count": 7,
   "id": "c0fecef5-c5b2-4773-a2a1-fb93c3fad5ae",
   "metadata": {},
   "outputs": [],
   "source": [
    "alternative <- tidyr::pivot_longer(data = correlations, \n",
    "                                   cols = c(year, longitude, latitude, hk_prevalence, asc_prevalence, tt_prevalence, coordinates), \n",
    "                                   names_to = 'reference', values_to = 'cramer')"
   ]
  },
  {
   "cell_type": "markdown",
   "id": "ef6e21c5-f01f-4e75-bf30-0cf1272bdf9e",
   "metadata": {},
   "source": [
    "<br>\n",
    "\n",
    "### Preserve"
   ]
  },
  {
   "cell_type": "markdown",
   "id": "9cd894a3-24aa-487f-9abe-ed9874796cce",
   "metadata": {},
   "source": [
    "Storage"
   ]
  },
  {
   "cell_type": "code",
   "execution_count": 8,
   "id": "69b087e3-afd5-4da4-861f-22038ecafcad",
   "metadata": {},
   "outputs": [],
   "source": [
    "storage <- file.path(getwd(), 'warehouse', 'missing', 'correlation')\n",
    "if ( dir.exists(storage)) {\n",
    "  base::unlink(x = storage, recursive = TRUE)\n",
    "}\n",
    "dir.create(path = storage, recursive = TRUE)"
   ]
  },
  {
   "cell_type": "markdown",
   "id": "ef288cc7-a488-401b-b334-21f47e3539a5",
   "metadata": {},
   "source": [
    "<br>\n",
    "\n",
    "Write"
   ]
  },
  {
   "cell_type": "code",
   "execution_count": 9,
   "id": "2d235bc1-1ac9-4a08-9ed6-188ed6092246",
   "metadata": {},
   "outputs": [],
   "source": [
    "utils::write.table(x = correlations,\n",
    "                   file = file.path(storage, 'wide.csv'),\n",
    "                   append = FALSE,\n",
    "                   sep = ',',\n",
    "                   na = '',\n",
    "                   row.names = FALSE,\n",
    "                   col.names = TRUE,\n",
    "                   fileEncoding = 'UTF-8')"
   ]
  },
  {
   "cell_type": "code",
   "execution_count": 10,
   "id": "580844b4-d45d-4866-8ae4-c022256b6997",
   "metadata": {},
   "outputs": [],
   "source": [
    "utils::write.table(x = alternative,\n",
    "                   file = file.path(storage, 'long.csv'),\n",
    "                   append = FALSE,\n",
    "                   sep = ',',\n",
    "                   na = '',\n",
    "                   row.names = FALSE,\n",
    "                   col.names = TRUE,\n",
    "                   fileEncoding = 'UTF-8')"
   ]
  }
 ],
 "metadata": {
  "kernelspec": {
   "display_name": "R",
   "language": "R",
   "name": "ir"
  },
  "language_info": {
   "codemirror_mode": "r",
   "file_extension": ".r",
   "mimetype": "text/x-r-source",
   "name": "R",
   "pygments_lexer": "r",
   "version": "4.1.2"
  }
 },
 "nbformat": 4,
 "nbformat_minor": 5
}
